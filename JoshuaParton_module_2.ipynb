{
 "cells": [
  {
   "cell_type": "code",
   "execution_count": 1,
   "id": "ba6593a7-d982-46f7-ac0c-dc7c455d58aa",
   "metadata": {},
   "outputs": [],
   "source": [
    "set_of_data = [1,3,4,5,7,8,12]"
   ]
  },
  {
   "cell_type": "code",
   "execution_count": 2,
   "id": "3aedfe6c-9d89-4d06-a705-86afabdea03b",
   "metadata": {},
   "outputs": [
    {
     "data": {
      "text/plain": [
       "7"
      ]
     },
     "execution_count": 2,
     "metadata": {},
     "output_type": "execute_result"
    }
   ],
   "source": [
    "len(set_of_data)"
   ]
  },
  {
   "cell_type": "code",
   "execution_count": 3,
   "id": "36325253-c55a-4db2-a6aa-d79fcad9e790",
   "metadata": {},
   "outputs": [
    {
     "data": {
      "text/plain": [
       "40"
      ]
     },
     "execution_count": 3,
     "metadata": {},
     "output_type": "execute_result"
    }
   ],
   "source": [
    "sum(set_of_data)"
   ]
  },
  {
   "cell_type": "code",
   "execution_count": 4,
   "id": "0f1f4597-34b9-4d16-8c87-3354a0760c94",
   "metadata": {},
   "outputs": [],
   "source": [
    "import statistics"
   ]
  },
  {
   "cell_type": "code",
   "execution_count": 5,
   "id": "e9e52654-03ec-4e83-917d-e1b344a2df3d",
   "metadata": {},
   "outputs": [
    {
     "data": {
      "text/plain": [
       "5.714285714285714"
      ]
     },
     "execution_count": 5,
     "metadata": {},
     "output_type": "execute_result"
    }
   ],
   "source": [
    "statistics.mean(set_of_data)"
   ]
  },
  {
   "cell_type": "code",
   "execution_count": 6,
   "id": "f102c583-1fbf-41f3-af77-e1c0af626f8f",
   "metadata": {},
   "outputs": [
    {
     "data": {
      "text/plain": [
       "5"
      ]
     },
     "execution_count": 6,
     "metadata": {},
     "output_type": "execute_result"
    }
   ],
   "source": [
    "statistics.median(set_of_data)"
   ]
  },
  {
   "cell_type": "code",
   "execution_count": 7,
   "id": "0d300e6b-7a23-4588-b729-c1043c5e6e75",
   "metadata": {},
   "outputs": [
    {
     "data": {
      "text/plain": [
       "1"
      ]
     },
     "execution_count": 7,
     "metadata": {},
     "output_type": "execute_result"
    }
   ],
   "source": [
    "statistics.mode(set_of_data)"
   ]
  },
  {
   "cell_type": "code",
   "execution_count": null,
   "id": "12332779-e77a-4771-8b12-f4cd9e3c28e1",
   "metadata": {},
   "outputs": [],
   "source": []
  }
 ],
 "metadata": {
  "kernelspec": {
   "display_name": "Python 3 (ipykernel)",
   "language": "python",
   "name": "python3"
  },
  "language_info": {
   "codemirror_mode": {
    "name": "ipython",
    "version": 3
   },
   "file_extension": ".py",
   "mimetype": "text/x-python",
   "name": "python",
   "nbconvert_exporter": "python",
   "pygments_lexer": "ipython3",
   "version": "3.9.7"
  }
 },
 "nbformat": 4,
 "nbformat_minor": 5
}
